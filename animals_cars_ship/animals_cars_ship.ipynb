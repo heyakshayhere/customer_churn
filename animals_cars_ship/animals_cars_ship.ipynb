{
 "cells": [
  {
   "cell_type": "code",
   "execution_count": 1,
   "id": "cd52219c",
   "metadata": {
    "ExecuteTime": {
     "end_time": "2022-03-13T14:56:45.182384Z",
     "start_time": "2022-03-13T14:56:29.175606Z"
    }
   },
   "outputs": [
    {
     "data": {
      "application/javascript": [
       "IPython.notebook.set_autosave_interval(1000)"
      ]
     },
     "metadata": {},
     "output_type": "display_data"
    },
    {
     "name": "stdout",
     "output_type": "stream",
     "text": [
      "Autosaving every 1 seconds\n"
     ]
    }
   ],
   "source": [
    "import tensorflow as tf\n",
    "import matplotlib.pyplot as plt\n",
    "import numpy as np\n",
    "\n",
    "import warnings\n",
    "warnings.filterwarnings(\"ignore\")\n",
    "%matplotlib inline\n",
    "%autosave 1"
   ]
  },
  {
   "cell_type": "code",
   "execution_count": 2,
   "id": "386e8fea",
   "metadata": {
    "ExecuteTime": {
     "end_time": "2022-03-13T14:56:45.722700Z",
     "start_time": "2022-03-13T14:56:45.183382Z"
    }
   },
   "outputs": [],
   "source": [
    "from tensorflow.keras.datasets import cifar10"
   ]
  },
  {
   "cell_type": "code",
   "execution_count": 3,
   "id": "d52685fd",
   "metadata": {
    "ExecuteTime": {
     "end_time": "2022-03-13T14:56:46.970820Z",
     "start_time": "2022-03-13T14:56:45.723706Z"
    }
   },
   "outputs": [],
   "source": [
    "(x_train, y_train) , (x_test, y_test) = cifar10.load_data()"
   ]
  },
  {
   "cell_type": "code",
   "execution_count": 4,
   "id": "3efc5f22",
   "metadata": {
    "ExecuteTime": {
     "end_time": "2022-03-13T14:56:46.985781Z",
     "start_time": "2022-03-13T14:56:46.972813Z"
    }
   },
   "outputs": [
    {
     "data": {
      "text/plain": [
       "((50000, 32, 32, 3), (50000, 1))"
      ]
     },
     "execution_count": 4,
     "metadata": {},
     "output_type": "execute_result"
    }
   ],
   "source": [
    "x_train.shape,y_train.shape"
   ]
  },
  {
   "cell_type": "code",
   "execution_count": 5,
   "id": "82268946",
   "metadata": {
    "ExecuteTime": {
     "end_time": "2022-03-13T14:56:47.000741Z",
     "start_time": "2022-03-13T14:56:46.987773Z"
    }
   },
   "outputs": [
    {
     "data": {
      "text/plain": [
       "((10000, 32, 32, 3), (10000, 1))"
      ]
     },
     "execution_count": 5,
     "metadata": {},
     "output_type": "execute_result"
    }
   ],
   "source": [
    "x_test.shape,y_test.shape"
   ]
  },
  {
   "cell_type": "code",
   "execution_count": 6,
   "id": "74f3df62",
   "metadata": {
    "ExecuteTime": {
     "end_time": "2022-03-13T14:56:47.016696Z",
     "start_time": "2022-03-13T14:56:47.004730Z"
    }
   },
   "outputs": [],
   "source": [
    "classes = [\"airplane\",\"automobile\",\"bird\",\"cat\",\"deer\",\"dog\",\"frog\",\"horse\",\"ship\",\"truck\"]"
   ]
  },
  {
   "cell_type": "code",
   "execution_count": 7,
   "id": "b5ad7320",
   "metadata": {
    "ExecuteTime": {
     "end_time": "2022-03-13T14:56:47.512473Z",
     "start_time": "2022-03-13T14:56:47.018693Z"
    }
   },
   "outputs": [
    {
     "name": "stdout",
     "output_type": "stream",
     "text": [
      "the subject is automobile\n",
      "\n"
     ]
    },
    {
     "data": {
      "image/png": "[encoded data removed]",
      "text/plain": [
       "<Figure size 432x288 with 1 Axes>"
      ]
     },
     "metadata": {
      "needs_background": "light"
     },
     "output_type": "display_data"
    }
   ],
   "source": [
    "from random import randint\n",
    "\n",
    "num_ = randint(0,len(x_train))\n",
    "\n",
    "plt.imshow(x_train[num_]);\n",
    "\n",
    "print(f\"the subject is {classes[int(y_train[num_])]}\\n\")"
   ]
  },
  {
   "cell_type": "code",
   "execution_count": 8,
   "id": "abf6ced3",
   "metadata": {
    "ExecuteTime": {
     "end_time": "2022-03-13T14:56:47.947135Z",
     "start_time": "2022-03-13T14:56:47.514467Z"
    }
   },
   "outputs": [],
   "source": [
    "x_train = x_train / 255\n",
    "x_test = x_test / 255"
   ]
  },
  {
   "cell_type": "code",
   "execution_count": 9,
   "id": "e0231f94",
   "metadata": {
    "ExecuteTime": {
     "end_time": "2022-03-13T14:56:47.963080Z",
     "start_time": "2022-03-13T14:56:47.948099Z"
    }
   },
   "outputs": [],
   "source": [
    "from tensorflow import keras"
   ]
  },
  {
   "cell_type": "code",
   "execution_count": 10,
   "id": "24748677",
   "metadata": {
    "ExecuteTime": {
     "end_time": "2022-03-13T14:56:47.978291Z",
     "start_time": "2022-03-13T14:56:47.966073Z"
    }
   },
   "outputs": [],
   "source": [
    "from tensorflow.keras import layers, models"
   ]
  },
  {
   "cell_type": "code",
   "execution_count": 29,
   "id": "d433707e",
   "metadata": {
    "ExecuteTime": {
     "end_time": "2022-03-13T15:01:17.662983Z",
     "start_time": "2022-03-13T15:01:17.200600Z"
    }
   },
   "outputs": [
    {
     "name": "stdout",
     "output_type": "stream",
     "text": [
      "CPU times: total: 31.2 ms\n",
      "Wall time: 451 ms\n"
     ]
    }
   ],
   "source": [
    "%%time \n",
    "model = keras.Sequential([\n",
    "    keras.layers.Flatten(input_shape=(32, 32,3)),\n",
    "    keras.layers.Dense(100, activation='relu'),\n",
    "    keras.layers.Dropout(0.5),\n",
    "    keras.layers.Dense(10, activation='sigmoid')\n",
    "])\n",
    "\n",
    "model.compile(optimizer='adam',\n",
    "              loss='sparse_categorical_crossentropy',\n",
    "              metrics=['accuracy'])"
   ]
  },
  {
   "cell_type": "code",
   "execution_count": null,
   "id": "399e0593",
   "metadata": {
    "ExecuteTime": {
     "start_time": "2022-03-13T15:01:18.581Z"
    },
    "scrolled": true
   },
   "outputs": [
    {
     "name": "stdout",
     "output_type": "stream",
     "text": [
      "Epoch 1/100\n",
      "400/400 [==============================] - 1s 3ms/step - loss: 2.2369 - accuracy: 0.1346 - val_loss: 2.1219 - val_accuracy: 0.1979\n",
      "Epoch 2/100\n",
      "400/400 [==============================] - 1s 2ms/step - loss: 2.1871 - accuracy: 0.1455 - val_loss: 2.1069 - val_accuracy: 0.2055\n",
      "Epoch 3/100\n",
      "400/400 [==============================] - 1s 3ms/step - loss: 2.1820 - accuracy: 0.1477 - val_loss: 2.0802 - val_accuracy: 0.2062\n",
      "Epoch 4/100\n",
      "400/400 [==============================] - 1s 2ms/step - loss: 2.1795 - accuracy: 0.1449 - val_loss: 2.0968 - val_accuracy: 0.1968\n",
      "Epoch 5/100\n",
      "400/400 [==============================] - 1s 3ms/step - loss: 2.1757 - accuracy: 0.1467 - val_loss: 2.0740 - val_accuracy: 0.2073\n",
      "Epoch 6/100\n",
      "400/400 [==============================] - 1s 3ms/step - loss: 2.1712 - accuracy: 0.1525 - val_loss: 2.0414 - val_accuracy: 0.2273\n",
      "Epoch 7/100\n",
      "400/400 [==============================] - 1s 3ms/step - loss: 2.1442 - accuracy: 0.1656 - val_loss: 2.0309 - val_accuracy: 0.2381\n",
      "Epoch 8/100\n",
      "400/400 [==============================] - 1s 3ms/step - loss: 2.1300 - accuracy: 0.1719 - val_loss: 2.0402 - val_accuracy: 0.2391\n",
      "Epoch 9/100\n",
      "400/400 [==============================] - 1s 2ms/step - loss: 2.1271 - accuracy: 0.1696 - val_loss: 2.0083 - val_accuracy: 0.2348\n",
      "Epoch 10/100\n",
      "400/400 [==============================] - 1s 3ms/step - loss: 2.1246 - accuracy: 0.1687 - val_loss: 2.0164 - val_accuracy: 0.2467\n",
      "Epoch 11/100\n",
      "400/400 [==============================] - 1s 3ms/step - loss: 2.1237 - accuracy: 0.1699 - val_loss: 2.0025 - val_accuracy: 0.2503\n",
      "Epoch 12/100\n",
      "400/400 [==============================] - 1s 3ms/step - loss: 2.1238 - accuracy: 0.1697 - val_loss: 2.0341 - val_accuracy: 0.2448\n",
      "Epoch 13/100\n",
      "400/400 [==============================] - 1s 3ms/step - loss: 2.1222 - accuracy: 0.1727 - val_loss: 2.0591 - val_accuracy: 0.2329\n",
      "Epoch 14/100\n",
      "400/400 [==============================] - 1s 2ms/step - loss: 2.1190 - accuracy: 0.1752 - val_loss: 2.0201 - val_accuracy: 0.2545\n",
      "Epoch 15/100\n",
      "400/400 [==============================] - 1s 3ms/step - loss: 2.1256 - accuracy: 0.1735 - val_loss: 2.0381 - val_accuracy: 0.2451\n",
      "Epoch 16/100\n",
      "400/400 [==============================] - 1s 3ms/step - loss: 2.1213 - accuracy: 0.1738 - val_loss: 2.0128 - val_accuracy: 0.2510\n",
      "Epoch 17/100\n",
      "400/400 [==============================] - 1s 3ms/step - loss: 2.1137 - accuracy: 0.1737 - val_loss: 2.0439 - val_accuracy: 0.2437\n",
      "Epoch 18/100\n",
      "400/400 [==============================] - 1s 3ms/step - loss: 2.1218 - accuracy: 0.1773 - val_loss: 2.0048 - val_accuracy: 0.2402\n",
      "Epoch 19/100\n",
      "400/400 [==============================] - 1s 2ms/step - loss: 2.1177 - accuracy: 0.1761 - val_loss: 2.0158 - val_accuracy: 0.2346\n",
      "Epoch 20/100\n",
      "400/400 [==============================] - 1s 3ms/step - loss: 2.1154 - accuracy: 0.1779 - val_loss: 2.0092 - val_accuracy: 0.2578\n",
      "Epoch 21/100\n",
      "400/400 [==============================] - 1s 3ms/step - loss: 2.1173 - accuracy: 0.1746 - val_loss: 2.0097 - val_accuracy: 0.2565\n",
      "Epoch 22/100\n",
      "400/400 [==============================] - 1s 3ms/step - loss: 2.1170 - accuracy: 0.1744 - val_loss: 2.0128 - val_accuracy: 0.2553\n",
      "Epoch 23/100\n",
      "400/400 [==============================] - 1s 3ms/step - loss: 2.1149 - accuracy: 0.1795 - val_loss: 2.0080 - val_accuracy: 0.2432\n",
      "Epoch 24/100\n",
      "400/400 [==============================] - 1s 3ms/step - loss: 2.1188 - accuracy: 0.1757 - val_loss: 1.9917 - val_accuracy: 0.2600\n",
      "Epoch 25/100\n",
      "400/400 [==============================] - 1s 3ms/step - loss: 2.1188 - accuracy: 0.1786 - val_loss: 2.0081 - val_accuracy: 0.2426\n",
      "Epoch 26/100\n",
      "400/400 [==============================] - 1s 3ms/step - loss: 2.1168 - accuracy: 0.1770 - val_loss: 2.0333 - val_accuracy: 0.2331\n",
      "Epoch 27/100\n",
      "400/400 [==============================] - 1s 3ms/step - loss: 2.1145 - accuracy: 0.1776 - val_loss: 2.0088 - val_accuracy: 0.2550\n",
      "Epoch 28/100\n",
      "400/400 [==============================] - 1s 3ms/step - loss: 2.1137 - accuracy: 0.1768 - val_loss: 2.0220 - val_accuracy: 0.2551\n",
      "Epoch 29/100\n",
      "400/400 [==============================] - 1s 3ms/step - loss: 2.1160 - accuracy: 0.1766 - val_loss: 1.9974 - val_accuracy: 0.2467\n",
      "Epoch 30/100\n",
      "400/400 [==============================] - 1s 3ms/step - loss: 2.1152 - accuracy: 0.1770 - val_loss: 2.0081 - val_accuracy: 0.2553\n",
      "Epoch 31/100\n",
      "400/400 [==============================] - 1s 3ms/step - loss: 2.1149 - accuracy: 0.1758 - val_loss: 1.9901 - val_accuracy: 0.2603\n",
      "Epoch 32/100\n",
      "400/400 [==============================] - 1s 3ms/step - loss: 2.1116 - accuracy: 0.1811 - val_loss: 2.0204 - val_accuracy: 0.2511\n",
      "Epoch 33/100\n",
      "400/400 [==============================] - 1s 3ms/step - loss: 2.1129 - accuracy: 0.1766 - val_loss: 2.0025 - val_accuracy: 0.2619\n",
      "Epoch 34/100\n",
      "400/400 [==============================] - 1s 2ms/step - loss: 2.1108 - accuracy: 0.1793 - val_loss: 2.0056 - val_accuracy: 0.2654\n",
      "Epoch 35/100\n",
      "400/400 [==============================] - 1s 3ms/step - loss: 2.1148 - accuracy: 0.1797 - val_loss: 1.9920 - val_accuracy: 0.2599\n",
      "Epoch 36/100\n",
      "400/400 [==============================] - 1s 3ms/step - loss: 2.1100 - accuracy: 0.1795 - val_loss: 2.0379 - val_accuracy: 0.2511\n",
      "Epoch 37/100\n",
      "400/400 [==============================] - 1s 3ms/step - loss: 2.1124 - accuracy: 0.1801 - val_loss: 2.0119 - val_accuracy: 0.2640\n",
      "Epoch 38/100\n",
      "400/400 [==============================] - 1s 3ms/step - loss: 2.1093 - accuracy: 0.1798 - val_loss: 2.0057 - val_accuracy: 0.2544\n",
      "Epoch 39/100\n",
      "400/400 [==============================] - 1s 3ms/step - loss: 2.1118 - accuracy: 0.1815 - val_loss: 2.0099 - val_accuracy: 0.2496\n",
      "Epoch 40/100\n",
      "400/400 [==============================] - 1s 3ms/step - loss: 2.1120 - accuracy: 0.1773 - val_loss: 1.9806 - val_accuracy: 0.2574\n",
      "Epoch 41/100\n",
      "400/400 [==============================] - 1s 3ms/step - loss: 2.1096 - accuracy: 0.1781 - val_loss: 2.0125 - val_accuracy: 0.2488\n",
      "Epoch 42/100\n",
      "400/400 [==============================] - 1s 3ms/step - loss: 2.1094 - accuracy: 0.1796 - val_loss: 2.0105 - val_accuracy: 0.2519\n",
      "Epoch 43/100\n",
      "400/400 [==============================] - 1s 3ms/step - loss: 2.1091 - accuracy: 0.1792 - val_loss: 1.9868 - val_accuracy: 0.2616\n",
      "Epoch 44/100\n",
      "400/400 [==============================] - 1s 3ms/step - loss: 2.1091 - accuracy: 0.1793 - val_loss: 2.0097 - val_accuracy: 0.2444\n",
      "Epoch 45/100\n",
      "400/400 [==============================] - 1s 3ms/step - loss: 2.1160 - accuracy: 0.1781 - val_loss: 1.9982 - val_accuracy: 0.2558\n",
      "Epoch 46/100\n",
      "400/400 [==============================] - 1s 3ms/step - loss: 2.1110 - accuracy: 0.1766 - val_loss: 2.0169 - val_accuracy: 0.2416\n",
      "Epoch 47/100\n",
      "400/400 [==============================] - 1s 3ms/step - loss: 2.1075 - accuracy: 0.1772 - val_loss: 2.0120 - val_accuracy: 0.2481\n",
      "Epoch 48/100\n",
      "400/400 [==============================] - 1s 3ms/step - loss: 2.1106 - accuracy: 0.1796 - val_loss: 1.9893 - val_accuracy: 0.2511\n",
      "Epoch 49/100\n",
      "400/400 [==============================] - 1s 3ms/step - loss: 2.1075 - accuracy: 0.1796 - val_loss: 1.9942 - val_accuracy: 0.2629\n",
      "Epoch 50/100\n",
      "400/400 [==============================] - 1s 3ms/step - loss: 2.1117 - accuracy: 0.1775 - val_loss: 1.9934 - val_accuracy: 0.2468\n",
      "Epoch 51/100\n",
      "400/400 [==============================] - 1s 3ms/step - loss: 2.1064 - accuracy: 0.1826 - val_loss: 1.9882 - val_accuracy: 0.2554\n",
      "Epoch 52/100\n",
      "400/400 [==============================] - 1s 3ms/step - loss: 2.1093 - accuracy: 0.1791 - val_loss: 1.9983 - val_accuracy: 0.2641\n",
      "Epoch 53/100\n",
      "400/400 [==============================] - 1s 3ms/step - loss: 2.1088 - accuracy: 0.1782 - val_loss: 1.9906 - val_accuracy: 0.2606\n",
      "Epoch 54/100\n",
      "400/400 [==============================] - 1s 3ms/step - loss: 2.1115 - accuracy: 0.1763 - val_loss: 2.0140 - val_accuracy: 0.2415\n",
      "Epoch 55/100\n",
      "400/400 [==============================] - 1s 3ms/step - loss: 2.1042 - accuracy: 0.1816 - val_loss: 1.9991 - val_accuracy: 0.2598\n",
      "Epoch 56/100\n",
      "400/400 [==============================] - 1s 3ms/step - loss: 2.1102 - accuracy: 0.1794 - val_loss: 2.0119 - val_accuracy: 0.2508\n",
      "Epoch 57/100\n",
      "400/400 [==============================] - 1s 3ms/step - loss: 2.1086 - accuracy: 0.1781 - val_loss: 1.9877 - val_accuracy: 0.2531\n"
     ]
    },
    {
     "name": "stdout",
     "output_type": "stream",
     "text": [
      "Epoch 58/100\n",
      "400/400 [==============================] - 1s 3ms/step - loss: 2.1083 - accuracy: 0.1796 - val_loss: 2.0116 - val_accuracy: 0.2606\n",
      "Epoch 59/100\n",
      "400/400 [==============================] - 1s 3ms/step - loss: 2.1076 - accuracy: 0.1800 - val_loss: 1.9943 - val_accuracy: 0.2560\n",
      "Epoch 60/100\n",
      "400/400 [==============================] - 1s 3ms/step - loss: 2.1055 - accuracy: 0.1808 - val_loss: 1.9837 - val_accuracy: 0.2561\n",
      "Epoch 61/100\n",
      "400/400 [==============================] - 1s 3ms/step - loss: 2.1074 - accuracy: 0.1790 - val_loss: 1.9990 - val_accuracy: 0.2579\n",
      "Epoch 62/100\n",
      "400/400 [==============================] - 1s 3ms/step - loss: 2.1087 - accuracy: 0.1782 - val_loss: 1.9990 - val_accuracy: 0.2520\n",
      "Epoch 63/100\n",
      "400/400 [==============================] - 1s 3ms/step - loss: 2.1086 - accuracy: 0.1794 - val_loss: 2.0045 - val_accuracy: 0.2633\n",
      "Epoch 64/100\n",
      "400/400 [==============================] - 1s 3ms/step - loss: 2.1066 - accuracy: 0.1800 - val_loss: 1.9990 - val_accuracy: 0.2645\n",
      "Epoch 65/100\n",
      "305/400 [=====================>........] - ETA: 0s - loss: 2.1082 - accuracy: 0.1787"
     ]
    }
   ],
   "source": [
    "%%time\n",
    "model.fit(x_train, y_train,batch_size=100 ,epochs=100,validation_split=0.2,workers=-1,use_multiprocessing=True)"
   ]
  },
  {
   "cell_type": "code",
   "execution_count": 19,
   "id": "53980b9a",
   "metadata": {
    "ExecuteTime": {
     "end_time": "2022-03-13T14:59:08.033146Z",
     "start_time": "2022-03-13T14:59:07.422417Z"
    }
   },
   "outputs": [
    {
     "name": "stdout",
     "output_type": "stream",
     "text": [
      "313/313 [==============================] - 0s 1ms/step - loss: 2.0821 - accuracy: 0.2205\n"
     ]
    },
    {
     "data": {
      "text/plain": [
       "[2.082127809524536, 0.22050000727176666]"
      ]
     },
     "execution_count": 19,
     "metadata": {},
     "output_type": "execute_result"
    }
   ],
   "source": [
    "model.evaluate(x_test,y_test)"
   ]
  },
  {
   "cell_type": "code",
   "execution_count": null,
   "id": "24a726c6",
   "metadata": {},
   "outputs": [],
   "source": [
    "313/313 [==============================] - 1s 3ms/step - loss: 2.0440 - accuracy: 0.2959\n",
    "[2.0439603328704834, 0.29589998722076416]"
   ]
  },
  {
   "cell_type": "code",
   "execution_count": null,
   "id": "d981a730",
   "metadata": {},
   "outputs": [],
   "source": []
  }
 ],
 "metadata": {
  "kernelspec": {
   "display_name": "Python 3 (ipykernel)",
   "language": "python",
   "name": "python3"
  },
  "language_info": {
   "codemirror_mode": {
    "name": "ipython",
    "version": 3
   },
   "file_extension": ".py",
   "mimetype": "text/x-python",
   "name": "python",
   "nbconvert_exporter": "python",
   "pygments_lexer": "ipython3",
   "version": "3.9.7"
  }
 },
 "nbformat": 4,
 "nbformat_minor": 5
}
